{
 "cells": [
  {
   "cell_type": "markdown",
   "metadata": {},
   "source": [
    "# Lab 1\n",
    "## Introduction\n",
    "In this lab, we will begin to learn how to use Python to solve mathematical problems.\n",
    "\n",
    "The goal of this lab is to teach you how to write basic, everyday mathematical expressions in Python. This will give you the basic tools you’ll need for future labs, covering quiver plots, Euler’s method and the numerical solution of differential equations, and for subsequent topics in second- and third-year Mathematics."
   ]
  },
  {
   "cell_type": "markdown",
   "metadata": {},
   "source": [
    "### Executing simple mathematical expressions\n",
    "In Jupyter notebooks like this one you can execute Python in cells by pressing Ctrl-Enter (or Shift-Enter).\n",
    "\n",
    "Let's start simple! Execute the cell below and observe the output."
   ]
  },
  {
   "cell_type": "code",
   "execution_count": null,
   "metadata": {},
   "outputs": [],
   "source": [
    "1 + 1"
   ]
  },
  {
   "cell_type": "markdown",
   "metadata": {},
   "source": [
    "Python uses standard symbols for the basic algebraic operations of addition, subtraction, multiplication and division. Here are some examples to try."
   ]
  },
  {
   "cell_type": "code",
   "execution_count": null,
   "metadata": {},
   "outputs": [],
   "source": [
    "17 - 2.5"
   ]
  },
  {
   "cell_type": "code",
   "execution_count": null,
   "metadata": {},
   "outputs": [],
   "source": [
    "7 * 4"
   ]
  },
  {
   "cell_type": "code",
   "execution_count": null,
   "metadata": {},
   "outputs": [],
   "source": [
    "1 / 9"
   ]
  },
  {
   "cell_type": "markdown",
   "metadata": {},
   "source": [
    "Exponents are represents in Python by double-star `**`. For example, to compute the number googol, which is ten raised to the one-hundredth power, do the following."
   ]
  },
  {
   "cell_type": "code",
   "execution_count": null,
   "metadata": {},
   "outputs": [],
   "source": [
    "10**100"
   ]
  },
  {
   "cell_type": "markdown",
   "metadata": {},
   "source": [
    "Note that in Jupyter, only the output of the final line will be displayed. To suppress that output, terminate the final line with `;`."
   ]
  },
  {
   "cell_type": "code",
   "execution_count": null,
   "metadata": {},
   "outputs": [],
   "source": [
    "1 + 1\n",
    "2 + 3"
   ]
  },
  {
   "cell_type": "code",
   "execution_count": null,
   "metadata": {},
   "outputs": [],
   "source": [
    "1 + 1\n",
    "2 + 3;"
   ]
  },
  {
   "cell_type": "markdown",
   "metadata": {},
   "source": [
    "If you would like to view a result from a line that is not the final line, use the `print` function."
   ]
  },
  {
   "cell_type": "code",
   "execution_count": null,
   "metadata": {},
   "outputs": [],
   "source": [
    "print('one plus one is', 1 + 1)\n",
    "2 + 3"
   ]
  },
  {
   "cell_type": "markdown",
   "metadata": {},
   "source": [
    "## Using numpy mathematical functions\n",
    "\n",
    "You are already familiar with a wide array of mathematical functions, such as trig functions, logs and square roots. Here, we see how to use these functions in Python.\n",
    "\n",
    "Python is a general-purpose programming language, so you have to `import` the mathematical functions that you want from a _module_ called `numpy` (aka NumPy)."
   ]
  },
  {
   "cell_type": "code",
   "execution_count": null,
   "metadata": {},
   "outputs": [],
   "source": [
    "from numpy import log, log10, sqrt, sin, cos, tan"
   ]
  },
  {
   "cell_type": "markdown",
   "metadata": {},
   "source": [
    "Names of the functions in NumPy are all more or less the same as the names you use when writing them down or on your graphics calculator. \n",
    "\n",
    "For example, NumPy’s sine function is sin, its cosine function cos and its tangent function tan. Therefore, to compute the cosine of 3.1415926, you proceed as follows."
   ]
  },
  {
   "cell_type": "code",
   "execution_count": null,
   "metadata": {},
   "outputs": [],
   "source": [
    "cos(3.1415926)"
   ]
  },
  {
   "cell_type": "markdown",
   "metadata": {},
   "source": [
    "Note that arguments passed to functions are always enclosed in brackets. Note also that numpy assumes that all angles are in radians.\n",
    "\n",
    "Some function names in NumPy are a little surprising. For instance, the natural logarithm function is `log`, not `ln`.\n"
   ]
  },
  {
   "cell_type": "code",
   "execution_count": null,
   "metadata": {},
   "outputs": [],
   "source": [
    "log(2.7182818)"
   ]
  },
  {
   "cell_type": "markdown",
   "metadata": {},
   "source": [
    "You can compute the base-10 logarithm using `log10`."
   ]
  },
  {
   "cell_type": "code",
   "execution_count": null,
   "metadata": {},
   "outputs": [],
   "source": [
    "log10(100)"
   ]
  },
  {
   "cell_type": "markdown",
   "metadata": {},
   "source": [
    "Other functions that you would usually write with symbols require functions calls. For instance $\\sqrt{4}$ becomes"
   ]
  },
  {
   "cell_type": "code",
   "execution_count": null,
   "metadata": {},
   "outputs": [],
   "source": [
    "sqrt(4)"
   ]
  },
  {
   "cell_type": "markdown",
   "metadata": {},
   "source": [
    "## Exercise 1\n",
    "Calculate `tan(3.14159)` in the cell below."
   ]
  },
  {
   "cell_type": "code",
   "execution_count": 3,
   "metadata": {},
   "outputs": [
    {
     "data": {
      "text/plain": [
       "0.9999986732059836"
      ]
     },
     "execution_count": 3,
     "metadata": {},
     "output_type": "execute_result"
    }
   ],
   "source": [
    "from numpy import tan\n",
    "tan(3.14159/4)"
   ]
  },
  {
   "cell_type": "markdown",
   "metadata": {},
   "source": [
    "You can execute the same cell as many times as you like. Go back and change your answer above to calculate `tan(3.14159/4)`. You can also copy and paste like you ordinarily would, and by tapping or click next a cell you can select the whole cell. You can move, copy, or paste cells. Exactly how you do this depends on your browser, so experiment a little bit."
   ]
  },
  {
   "cell_type": "markdown",
   "metadata": {},
   "source": [
    "## Names for common constants in NumPy\n",
    "Three constants that are ubiquitous in mathematics are $\\pi$, $\\mathrm{e}$, and the imaginary number $i$. We can import the first two from NumPy."
   ]
  },
  {
   "cell_type": "code",
   "execution_count": null,
   "metadata": {},
   "outputs": [],
   "source": [
    "from numpy import pi, e"
   ]
  },
  {
   "cell_type": "markdown",
   "metadata": {},
   "source": [
    "We know that $\\pi$ and $\\mathrm{e}$ are constants, but the objects we have just imported from NumPy are _variables_, not functions like we imported from NumPy last time. That means we don't put brackets after them."
   ]
  },
  {
   "cell_type": "code",
   "execution_count": null,
   "metadata": {},
   "outputs": [],
   "source": [
    "cos(pi/4)"
   ]
  },
  {
   "cell_type": "markdown",
   "metadata": {},
   "source": [
    "We don't import $i$ because Python already knows about it. Electrical engineers use $j$ instead of $i$ (because $i$ is current), and so does python."
   ]
  },
  {
   "cell_type": "code",
   "execution_count": null,
   "metadata": {},
   "outputs": [],
   "source": [
    "1j * 1j"
   ]
  },
  {
   "cell_type": "markdown",
   "metadata": {},
   "source": [
    "Note that `1j` is a complex number, so the output of the above multiplication is also a complex number (whose imaginary part is zero)."
   ]
  },
  {
   "cell_type": "markdown",
   "metadata": {},
   "source": [
    "If you really want $\\mathrm{e}$ you can use the constant imported above, but most of the time we will use NumPy's `exp` function (which calculates $\\mathrm{e}^x$)."
   ]
  },
  {
   "cell_type": "code",
   "execution_count": null,
   "metadata": {},
   "outputs": [],
   "source": [
    "from numpy import exp\n",
    "exp(1)"
   ]
  },
  {
   "cell_type": "markdown",
   "metadata": {},
   "source": [
    "## Exercise 2\n",
    "Calculate $\\mathrm{e}^{i\\pi}$.\n",
    "\n",
    "Unless you import another specialised module, all arithmetic in Python will be _floating point_ arithmetic, where irrational numbers are truncated to have finite precision. For that reason, you may observe a very small _floating point error_ in your results."
   ]
  },
  {
   "cell_type": "code",
   "execution_count": 5,
   "metadata": {},
   "outputs": [
    {
     "data": {
      "text/plain": [
       "(-1+1.2246467991473532e-16j)"
      ]
     },
     "execution_count": 5,
     "metadata": {},
     "output_type": "execute_result"
    }
   ],
   "source": [
    "from numpy import pi, e, exp\n",
    "exp(1j*pi)"
   ]
  },
  {
   "cell_type": "markdown",
   "metadata": {},
   "source": [
    "## Plotting functions\n",
    "When we plot a function given by a formula, say $f(x) = \\sin(x)$, we first must define the range of $x$ values we want to use, the domain of the plot.\n",
    "### Example 1\n",
    "Plot the curve $y = \\sin(x)$ in the range $−5 \\leq x \\leq 5$. We define the range of $x$ by typing the following command."
   ]
  },
  {
   "cell_type": "code",
   "execution_count": null,
   "metadata": {},
   "outputs": [],
   "source": [
    "from numpy import linspace\n",
    "x = linspace(-5, 5, 101)"
   ]
  },
  {
   "cell_type": "markdown",
   "metadata": {},
   "source": [
    "Note that if you don't know what a function does (or can't remember the order of its arguments), help is only a question mark away."
   ]
  },
  {
   "cell_type": "code",
   "execution_count": null,
   "metadata": {},
   "outputs": [],
   "source": [
    "linspace?"
   ]
  },
  {
   "cell_type": "markdown",
   "metadata": {},
   "source": [
    "The above call to `linspace` creates a $1\\times 101$ NumPy array whose elements are from -5 to 5. We chose the steps to be small enough to make the plot smooth.\n",
    "\n",
    "There are several good visualisation modules available in Python. We will use Plotly."
   ]
  },
  {
   "cell_type": "code",
   "execution_count": null,
   "metadata": {},
   "outputs": [],
   "source": [
    "from plotly import graph_objs as go"
   ]
  },
  {
   "cell_type": "markdown",
   "metadata": {},
   "source": [
    "First calculate the $y$ values that correspond to our $x$ values."
   ]
  },
  {
   "cell_type": "code",
   "execution_count": null,
   "metadata": {},
   "outputs": [],
   "source": [
    "y = sin(x)"
   ]
  },
  {
   "cell_type": "markdown",
   "metadata": {},
   "source": [
    "Now draw a line through the points defined by the $x$ and $y$ arrays. This may be the first time that you have encountered object-oriented programming. The `.` in `go.Figure` means that `Figure` belongs to `go`. `go.Figure()` returns a new `Figure` object, which you can then manipulate with its methods. The `.` in `fig.add_trace` means that the `add_trace` function belongs to `fig`. When you call it, it changes `fig`. Finally, `fig.show()` tells fig to display itself."
   ]
  },
  {
   "cell_type": "code",
   "execution_count": null,
   "metadata": {},
   "outputs": [],
   "source": [
    "fig = go.Figure()\n",
    "fig.add_trace(go.Scatter(x=x, y=y))\n",
    "fig.show('png')"
   ]
  },
  {
   "cell_type": "markdown",
   "metadata": {},
   "source": [
    "Decorating your plot uses more `.` operators. `fig.layout.update` updates the layout that belongs to fig. Don't worry if you don't get the object-oriented paradigm, we will mostly just use it in the course to generate plots. If you copy this syntax, Jupyter will draw plots for you."
   ]
  },
  {
   "cell_type": "code",
   "execution_count": null,
   "metadata": {},
   "outputs": [],
   "source": [
    "fig.layout.update(dict(title='A Plot',\n",
    "                       xaxis=dict(title='x'),\n",
    "                       yaxis=dict(title='y=sin(y)')))\n",
    "fig.show('png')"
   ]
  },
  {
   "cell_type": "markdown",
   "metadata": {},
   "source": [
    "### Steps for basic plotting\n",
    "1. define the range: `x = linspace(`start`,`stop`, `num points`)`\n",
    "2. define the function you want to plot: `y = `function`(x)`\n",
    "3. type the plot command:\n",
    "```\n",
    "fig = go.Figure()\n",
    "fig.add_trace(go.Scatter(x=x, y=y))\n",
    "fig.show()\n",
    "```\n",
    "\n",
    "### Example 2\n",
    "Plot the function\n",
    "$$\n",
    "y = x^2 - x\\sin(3x) - x\\mathrm{e}^x,\\qquad -3\\leq x \\leq 3\n",
    "$$"
   ]
  },
  {
   "cell_type": "code",
   "execution_count": 6,
   "metadata": {},
   "outputs": [
    {
     "ename": "NameError",
     "evalue": "name 'linspace' is not defined",
     "output_type": "error",
     "traceback": [
      "\u001b[1;31m---------------------------------------------------------------------------\u001b[0m",
      "\u001b[1;31mNameError\u001b[0m                                 Traceback (most recent call last)",
      "\u001b[1;32m<ipython-input-6-645b8b1ea0a4>\u001b[0m in \u001b[0;36m<module>\u001b[1;34m\u001b[0m\n\u001b[1;32m----> 1\u001b[1;33m \u001b[0mx\u001b[0m \u001b[1;33m=\u001b[0m \u001b[0mlinspace\u001b[0m\u001b[1;33m(\u001b[0m\u001b[1;33m-\u001b[0m\u001b[1;36m3\u001b[0m\u001b[1;33m,\u001b[0m \u001b[1;36m3\u001b[0m\u001b[1;33m,\u001b[0m \u001b[1;36m61\u001b[0m\u001b[1;33m)\u001b[0m\u001b[1;33m\u001b[0m\u001b[1;33m\u001b[0m\u001b[0m\n\u001b[0m\u001b[0;32m      2\u001b[0m \u001b[0my\u001b[0m \u001b[1;33m=\u001b[0m \u001b[0mx\u001b[0m\u001b[1;33m**\u001b[0m\u001b[1;36m2\u001b[0m \u001b[1;33m-\u001b[0m \u001b[0mx\u001b[0m\u001b[1;33m*\u001b[0m\u001b[0msin\u001b[0m\u001b[1;33m(\u001b[0m\u001b[1;36m3\u001b[0m\u001b[1;33m*\u001b[0m\u001b[0mx\u001b[0m\u001b[1;33m)\u001b[0m \u001b[1;33m-\u001b[0m \u001b[0mx\u001b[0m\u001b[1;33m*\u001b[0m\u001b[0mexp\u001b[0m\u001b[1;33m(\u001b[0m\u001b[0mx\u001b[0m\u001b[1;33m)\u001b[0m\u001b[1;33m\u001b[0m\u001b[1;33m\u001b[0m\u001b[0m\n\u001b[0;32m      3\u001b[0m \u001b[0mfig\u001b[0m \u001b[1;33m=\u001b[0m \u001b[0mgo\u001b[0m\u001b[1;33m.\u001b[0m\u001b[0mFigure\u001b[0m\u001b[1;33m(\u001b[0m\u001b[1;33m)\u001b[0m\u001b[1;33m\u001b[0m\u001b[1;33m\u001b[0m\u001b[0m\n\u001b[0;32m      4\u001b[0m \u001b[0mfig\u001b[0m\u001b[1;33m.\u001b[0m\u001b[0madd_trace\u001b[0m\u001b[1;33m(\u001b[0m\u001b[0mgo\u001b[0m\u001b[1;33m.\u001b[0m\u001b[0mScatter\u001b[0m\u001b[1;33m(\u001b[0m\u001b[0mx\u001b[0m\u001b[1;33m=\u001b[0m\u001b[0mx\u001b[0m\u001b[1;33m,\u001b[0m \u001b[0my\u001b[0m\u001b[1;33m=\u001b[0m\u001b[0my\u001b[0m\u001b[1;33m)\u001b[0m\u001b[1;33m)\u001b[0m\u001b[1;33m\u001b[0m\u001b[1;33m\u001b[0m\u001b[0m\n\u001b[0;32m      5\u001b[0m \u001b[0mfig\u001b[0m\u001b[1;33m.\u001b[0m\u001b[0mshow\u001b[0m\u001b[1;33m(\u001b[0m\u001b[1;34m'png'\u001b[0m\u001b[1;33m)\u001b[0m\u001b[1;33m\u001b[0m\u001b[1;33m\u001b[0m\u001b[0m\n",
      "\u001b[1;31mNameError\u001b[0m: name 'linspace' is not defined"
     ]
    }
   ],
   "source": [
    "x = linspace(-3, 3, 61)\n",
    "y = x**2 - x*sin(3*x) - x*exp(x)\n",
    "fig = go.Figure()\n",
    "fig.add_trace(go.Scatter(x=x, y=y))\n",
    "fig.show('png')"
   ]
  },
  {
   "cell_type": "markdown",
   "metadata": {},
   "source": [
    "### Example 3\n",
    "Sometimes we have a set of measurements that we want to plot. Essentially we do what we did above, but the variables now contain the data, rather than values of an independent variable $x$ and the corresponding function values $y$.\n",
    "\n",
    "Here are some actual data on influenza cases collected during the 2003-2004 flu season."
   ]
  },
  {
   "cell_type": "code",
   "execution_count": null,
   "metadata": {},
   "outputs": [],
   "source": [
    "data = {'Weeks': \n",
    "        [1, 2, 3, 4, 5, 6, 7, 8, 9, 10, 11, 12, 13, \n",
    "         14, 15, 16, 17, 18, 19, 20, 21, 22, 23, 24, 25, 26],\n",
    "        '% Flu Cases': \n",
    "        [0.9, 1.0, 1.3, 1.3, 1.8, 2.4, 2.7, 3.7, 4.5, \n",
    "         5.4, 7.4, 7.5, 7.6, 5.2, 2.9, 2.1, 1.9, 1.8,\n",
    "         1.5, 1.4, 1.3, 1.1, 1.0, 1.0, 1.1, 0.9]}"
   ]
  },
  {
   "cell_type": "markdown",
   "metadata": {},
   "source": [
    "Let's visualise it using a `DataFrame` (a type of table) from the `pandas` module."
   ]
  },
  {
   "cell_type": "code",
   "execution_count": null,
   "metadata": {},
   "outputs": [],
   "source": [
    "from pandas import DataFrame\n",
    "fluCases = DataFrame(data).set_index('Weeks')\n",
    "fluCases"
   ]
  },
  {
   "cell_type": "markdown",
   "metadata": {},
   "source": [
    "Week 1 is the first full week of October 2003. _% Flu Cases_ is the percentage of all patients seen by doctors in that week who had flu-like symptoms.\n",
    "\n",
    "`pandas` is already friends with `plotly`, so if you ask our new DataFrame to plot using the Plotly backend, it can create a figure for you. You can then change the attributes of that figure just as you did above for the basic figures."
   ]
  },
  {
   "cell_type": "code",
   "execution_count": null,
   "metadata": {},
   "outputs": [],
   "source": [
    "fig = fluCases.plot(backend='plotly')\n",
    "fig.layout.update(dict(title='The 2003-2004 Flu Season',\n",
    "                       xaxis=dict(title='weeks'),\n",
    "                       yaxis=dict(title='% patients with flu-like symptoms')))\n",
    "fig.show('png')"
   ]
  }
 ],
 "metadata": {
  "kernelspec": {
   "display_name": "Python 3",
   "language": "python",
   "name": "python3"
  },
  "language_info": {
   "codemirror_mode": {
    "name": "ipython",
    "version": 3
   },
   "file_extension": ".py",
   "mimetype": "text/x-python",
   "name": "python",
   "nbconvert_exporter": "python",
   "pygments_lexer": "ipython3",
   "version": "3.8.3"
  }
 },
 "nbformat": 4,
 "nbformat_minor": 4
}
